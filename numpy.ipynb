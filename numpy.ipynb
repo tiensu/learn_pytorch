{
 "cells": [
  {
   "cell_type": "code",
   "execution_count": 1,
   "metadata": {},
   "outputs": [],
   "source": [
    "import numpy as np\n",
    "import math"
   ]
  },
  {
   "cell_type": "code",
   "execution_count": 2,
   "metadata": {},
   "outputs": [],
   "source": [
    "# create random input and output data  \n",
    "x = np.linspace(-math.pi, math.pi, 2000)\n",
    "y = np.sin(x)"
   ]
  },
  {
   "cell_type": "code",
   "execution_count": 4,
   "metadata": {},
   "outputs": [],
   "source": [
    "# Randomly initialize weights\n",
    "a = np.random.randn()\n",
    "b = np.random.randn()\n",
    "c = np.random.randn()\n",
    "d = np.random.randn()"
   ]
  },
  {
   "cell_type": "code",
   "execution_count": 5,
   "metadata": {},
   "outputs": [
    {
     "name": "stdout",
     "output_type": "stream",
     "text": [
      "99 3143.818010866654\n",
      "199 2116.2229263272893\n",
      "299 1426.6732199583303\n",
      "399 963.5945085517977\n",
      "499 652.349490984395\n",
      "599 442.9762426831849\n",
      "699 302.0071819948708\n",
      "799 207.00739674430105\n",
      "899 142.9263396063464\n",
      "999 99.65936415611358\n",
      "1099 70.4168757052528\n",
      "1199 50.63290096959291\n",
      "1299 37.234158118850004\n",
      "1399 28.15020363031455\n",
      "1499 21.98489895650891\n",
      "1599 17.7958999624176\n",
      "1699 14.94653177976302\n",
      "1799 13.006204581588902\n",
      "1899 11.6834054583146\n",
      "1999 10.780569794627882\n"
     ]
    }
   ],
   "source": [
    "learning_rate = 1e-6\n",
    "for t in range(2000):\n",
    "    # Forward pass: compute predicted y\n",
    "    # y = a + b x + c x^2 + d x^3\n",
    "    y_pred = a + b * x + c * x ** 2 + d * x ** 3\n",
    "\n",
    "    # Compute and print loss\n",
    "    loss = np.square(y_pred - y).sum()\n",
    "    if t % 100 == 99:\n",
    "        print(t, loss)\n",
    "\n",
    "    # Backprop to compute gradients of a, b, c, d with respect to loss\n",
    "    grad_y_pred = 2.0 * (y_pred - y)\n",
    "    grad_a = grad_y_pred.sum()\n",
    "    grad_b = (grad_y_pred * x).sum()\n",
    "    grad_c = (grad_y_pred * x ** 2).sum()\n",
    "    grad_d = (grad_y_pred * x ** 3).sum()\n",
    "\n",
    "    # Update weights\n",
    "    a -= learning_rate * grad_a\n",
    "    b -= learning_rate * grad_b\n",
    "    c -= learning_rate * grad_c\n",
    "    d -= learning_rate * grad_d"
   ]
  },
  {
   "cell_type": "code",
   "execution_count": 6,
   "metadata": {},
   "outputs": [
    {
     "name": "stdout",
     "output_type": "stream",
     "text": [
      "Result: y = -0.034111203445603984 + 0.8271780823267275 x + 0.005884750207242087 x^2 + -0.08912534375911553 x^3\n"
     ]
    }
   ],
   "source": [
    "print(f'Result: y = {a} + {b} x + {c} x^2 + {d} x^3')"
   ]
  }
 ],
 "metadata": {
  "interpreter": {
   "hash": "efd68984d46448f3ce0dbf5240eac3bcdf452f814fef83c83ec2f31729e9369b"
  },
  "kernelspec": {
   "display_name": "Python 3.8.12 ('lpt')",
   "language": "python",
   "name": "python3"
  },
  "language_info": {
   "codemirror_mode": {
    "name": "ipython",
    "version": 3
   },
   "file_extension": ".py",
   "mimetype": "text/x-python",
   "name": "python",
   "nbconvert_exporter": "python",
   "pygments_lexer": "ipython3",
   "version": "3.8.12"
  },
  "orig_nbformat": 4
 },
 "nbformat": 4,
 "nbformat_minor": 2
}
