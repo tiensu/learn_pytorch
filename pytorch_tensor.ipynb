{
 "cells": [
  {
   "cell_type": "code",
   "execution_count": 1,
   "metadata": {},
   "outputs": [],
   "source": [
    "import torch\n",
    "import math"
   ]
  },
  {
   "cell_type": "code",
   "execution_count": 2,
   "metadata": {},
   "outputs": [],
   "source": [
    "# dtype = torch.float\n",
    "device = torch.device('cuda:0')"
   ]
  },
  {
   "cell_type": "code",
   "execution_count": 3,
   "metadata": {},
   "outputs": [],
   "source": [
    "# create random input and output data\n",
    "x = torch.linspace(-math.pi, math.pi, 2000, device=torch.device('cuda:0'), dtype=torch.float)"
   ]
  }
 ],
 "metadata": {
  "interpreter": {
   "hash": "efd68984d46448f3ce0dbf5240eac3bcdf452f814fef83c83ec2f31729e9369b"
  },
  "kernelspec": {
   "display_name": "Python 3.8.12 ('lpt')",
   "language": "python",
   "name": "python3"
  },
  "language_info": {
   "codemirror_mode": {
    "name": "ipython",
    "version": 3
   },
   "file_extension": ".py",
   "mimetype": "text/x-python",
   "name": "python",
   "nbconvert_exporter": "python",
   "pygments_lexer": "ipython3",
   "version": "3.8.12"
  },
  "orig_nbformat": 4
 },
 "nbformat": 4,
 "nbformat_minor": 2
}
